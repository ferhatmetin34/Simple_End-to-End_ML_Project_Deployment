{
 "metadata": {
  "language_info": {
   "codemirror_mode": {
    "name": "ipython",
    "version": 3
   },
   "file_extension": ".py",
   "mimetype": "text/x-python",
   "name": "python",
   "nbconvert_exporter": "python",
   "pygments_lexer": "ipython3",
   "version": "3.7.7-final"
  },
  "orig_nbformat": 2,
  "kernelspec": {
   "name": "python3",
   "display_name": "Python 3.7.7 64-bit (conda)",
   "metadata": {
    "interpreter": {
     "hash": "a20733d2e16c949a1469d40e1adfe43a0a74d020c35bd1193ba7baa471c903e3"
    }
   }
  }
 },
 "nbformat": 4,
 "nbformat_minor": 2,
 "cells": [
  {
   "cell_type": "code",
   "execution_count": 2,
   "metadata": {},
   "outputs": [
    {
     "output_type": "stream",
     "name": "stdout",
     "text": [
      "Requirement already satisfied: feature-engine in c:\\users\\asus\\anaconda3\\lib\\site-packages (1.0.2)\nRequirement already satisfied: scikit-learn>=0.22.2 in c:\\users\\asus\\anaconda3\\lib\\site-packages (from feature-engine) (0.23.2)\nRequirement already satisfied: statsmodels>=0.11.1 in c:\\users\\asus\\anaconda3\\lib\\site-packages (from feature-engine) (0.11.1)\nRequirement already satisfied: pandas>=1.0.3 in c:\\users\\asus\\anaconda3\\lib\\site-packages (from feature-engine) (1.1.2)\nRequirement already satisfied: numpy>=1.18.2 in c:\\users\\asus\\anaconda3\\lib\\site-packages (from feature-engine) (1.19.1)\nRequirement already satisfied: scipy>=1.4.1 in c:\\users\\asus\\anaconda3\\lib\\site-packages (from feature-engine) (1.5.2)\nRequirement already satisfied: joblib>=0.11 in c:\\users\\asus\\anaconda3\\lib\\site-packages (from scikit-learn>=0.22.2->feature-engine) (0.17.0)\nRequirement already satisfied: threadpoolctl>=2.0.0 in c:\\users\\asus\\anaconda3\\lib\\site-packages (from scikit-learn>=0.22.2->feature-engine) (2.1.0)\nRequirement already satisfied: patsy>=0.5 in c:\\users\\asus\\anaconda3\\lib\\site-packages (from statsmodels>=0.11.1->feature-engine) (0.5.1)\nRequirement already satisfied: python-dateutil>=2.7.3 in c:\\users\\asus\\anaconda3\\lib\\site-packages (from pandas>=1.0.3->feature-engine) (2.8.1)\nRequirement already satisfied: pytz>=2017.2 in c:\\users\\asus\\anaconda3\\lib\\site-packages (from pandas>=1.0.3->feature-engine) (2020.1)\nRequirement already satisfied: six in c:\\users\\asus\\anaconda3\\lib\\site-packages (from patsy>=0.5->statsmodels>=0.11.1->feature-engine) (1.15.0)\n"
     ]
    }
   ],
   "source": [
    "!pip install feature-engine"
   ]
  },
  {
   "cell_type": "code",
   "execution_count": 156,
   "metadata": {},
   "outputs": [],
   "source": [
    "import pandas as pd \n",
    "import numpy as np \n",
    "import matplotlib.pyplot as plt \n",
    "import seaborn as sns \n",
    "pd.set_option('display.max_columns', None)\n",
    "pd.set_option('display.max_rows',None)\n",
    "from sklearn.model_selection import train_test_split\n",
    "from xgboost import XGBRegressor\n",
    "from lightgbm import LGBMRegressor,plot_importance,plot_metric,plot_tree,create_tree_digraph\n",
    "from sklearn.metrics import mean_squared_error,mean_absolute_error\n",
    "from sklearn.preprocessing import MinMaxScaler,StandardScaler,RobustScaler\n",
    "from sklearn.metrics import r2_score\n",
    "from feature_engine.encoding import MeanEncoder,CountFrequencyEncoder,DecisionTreeEncoder,OneHotEncoder,OrdinalEncoder\n",
    "from sklearn.model_selection import cross_val_score,cross_val_predict,KFold,GridSearchCV\n",
    "import joblib\n",
    "from sklearn.pipeline import Pipeline"
   ]
  },
  {
   "cell_type": "code",
   "execution_count": 157,
   "metadata": {},
   "outputs": [
    {
     "output_type": "execute_result",
     "data": {
      "text/plain": [
       "   price const_type  net_m2  brut_m2 room          age  floor  no_of_floor  \\\n",
       "0   1900  Betonarme      50       70  1+1         5-10     13           16   \n",
       "1   4000  Betonarme     115      125  3+1  20 Ve Üzeri      4            5   \n",
       "2   2200  Betonarme     100      120  3+1          1-4      0            6   \n",
       "3   2000  Betonarme      90      100  2+1         5-10      1            9   \n",
       "4   1500  Betonarme      85       98  2+1         5-10      3            5   \n",
       "\n",
       "               heating  due  deposit  no_of_bathroom  no_of_wc in_site  \\\n",
       "0  Merkezi (Pay Ölçer)    0        0               1         1   Hayır   \n",
       "1     Merkezi Doğalgaz  450     4000               1         1   Hayır   \n",
       "2       Kombi Doğalgaz   50     4400               1         1   Hayır   \n",
       "3  Merkezi (Pay Ölçer)  280        0               1         1   Hayır   \n",
       "4       Kombi Doğalgaz   40     1500               1         1   Hayır   \n",
       "\n",
       "  furniture    location  \n",
       "0       Boş     Avcılar  \n",
       "1       Boş    Beşiktaş  \n",
       "2    Eşyalı  Beylikdüzü  \n",
       "3    Eşyalı    Esenyurt  \n",
       "4       Boş      Pendik  "
      ],
      "text/html": "<div>\n<style scoped>\n    .dataframe tbody tr th:only-of-type {\n        vertical-align: middle;\n    }\n\n    .dataframe tbody tr th {\n        vertical-align: top;\n    }\n\n    .dataframe thead th {\n        text-align: right;\n    }\n</style>\n<table border=\"1\" class=\"dataframe\">\n  <thead>\n    <tr style=\"text-align: right;\">\n      <th></th>\n      <th>price</th>\n      <th>const_type</th>\n      <th>net_m2</th>\n      <th>brut_m2</th>\n      <th>room</th>\n      <th>age</th>\n      <th>floor</th>\n      <th>no_of_floor</th>\n      <th>heating</th>\n      <th>due</th>\n      <th>deposit</th>\n      <th>no_of_bathroom</th>\n      <th>no_of_wc</th>\n      <th>in_site</th>\n      <th>furniture</th>\n      <th>location</th>\n    </tr>\n  </thead>\n  <tbody>\n    <tr>\n      <th>0</th>\n      <td>1900</td>\n      <td>Betonarme</td>\n      <td>50</td>\n      <td>70</td>\n      <td>1+1</td>\n      <td>5-10</td>\n      <td>13</td>\n      <td>16</td>\n      <td>Merkezi (Pay Ölçer)</td>\n      <td>0</td>\n      <td>0</td>\n      <td>1</td>\n      <td>1</td>\n      <td>Hayır</td>\n      <td>Boş</td>\n      <td>Avcılar</td>\n    </tr>\n    <tr>\n      <th>1</th>\n      <td>4000</td>\n      <td>Betonarme</td>\n      <td>115</td>\n      <td>125</td>\n      <td>3+1</td>\n      <td>20 Ve Üzeri</td>\n      <td>4</td>\n      <td>5</td>\n      <td>Merkezi Doğalgaz</td>\n      <td>450</td>\n      <td>4000</td>\n      <td>1</td>\n      <td>1</td>\n      <td>Hayır</td>\n      <td>Boş</td>\n      <td>Beşiktaş</td>\n    </tr>\n    <tr>\n      <th>2</th>\n      <td>2200</td>\n      <td>Betonarme</td>\n      <td>100</td>\n      <td>120</td>\n      <td>3+1</td>\n      <td>1-4</td>\n      <td>0</td>\n      <td>6</td>\n      <td>Kombi Doğalgaz</td>\n      <td>50</td>\n      <td>4400</td>\n      <td>1</td>\n      <td>1</td>\n      <td>Hayır</td>\n      <td>Eşyalı</td>\n      <td>Beylikdüzü</td>\n    </tr>\n    <tr>\n      <th>3</th>\n      <td>2000</td>\n      <td>Betonarme</td>\n      <td>90</td>\n      <td>100</td>\n      <td>2+1</td>\n      <td>5-10</td>\n      <td>1</td>\n      <td>9</td>\n      <td>Merkezi (Pay Ölçer)</td>\n      <td>280</td>\n      <td>0</td>\n      <td>1</td>\n      <td>1</td>\n      <td>Hayır</td>\n      <td>Eşyalı</td>\n      <td>Esenyurt</td>\n    </tr>\n    <tr>\n      <th>4</th>\n      <td>1500</td>\n      <td>Betonarme</td>\n      <td>85</td>\n      <td>98</td>\n      <td>2+1</td>\n      <td>5-10</td>\n      <td>3</td>\n      <td>5</td>\n      <td>Kombi Doğalgaz</td>\n      <td>40</td>\n      <td>1500</td>\n      <td>1</td>\n      <td>1</td>\n      <td>Hayır</td>\n      <td>Boş</td>\n      <td>Pendik</td>\n    </tr>\n  </tbody>\n</table>\n</div>"
     },
     "metadata": {},
     "execution_count": 157
    }
   ],
   "source": [
    "data=pd.read_csv(\"data_cleaned.csv\")\n",
    "df=data.copy()\n",
    "df.head()"
   ]
  },
  {
   "cell_type": "code",
   "execution_count": 158,
   "metadata": {},
   "outputs": [],
   "source": [
    "\n",
    "df=df.drop([\"brut_m2\",\"floor\",\"const_type\"],axis=1)"
   ]
  },
  {
   "cell_type": "code",
   "execution_count": 159,
   "metadata": {},
   "outputs": [
    {
     "output_type": "execute_result",
     "data": {
      "text/plain": [
       "(1290, 13)"
      ]
     },
     "metadata": {},
     "execution_count": 159
    }
   ],
   "source": [
    "df.shape"
   ]
  },
  {
   "source": [
    "## Cross Validation"
   ],
   "cell_type": "markdown",
   "metadata": {}
  },
  {
   "cell_type": "code",
   "execution_count": 160,
   "metadata": {
    "tags": []
   },
   "outputs": [
    {
     "output_type": "stream",
     "name": "stdout",
     "text": [
      "-----LGBMRegressor(random_state=23)-----\nThe mean value is: 0.6699118532666564\nscores: [0.6766495917632505, 0.7013162797200885, 0.6249158082976434, 0.7251687402685794, 0.6215088462837204]\n \n"
     ]
    }
   ],
   "source": [
    "cv = KFold(n_splits=5, random_state=0, shuffle=True) \n",
    "X=df.drop([\"price\"],axis=1)\n",
    "y=df[\"price\"]\n",
    "model=LGBMRegressor(random_state=23)\n",
    "my_scores=[]\n",
    "for train_index, test_index in cv.split(X): \n",
    "\n",
    "    X_train, X_test, y_train, y_test = X.loc[train_index], X.loc[test_index], y.loc[train_index], y.loc[test_index] \n",
    "    encoder=CountFrequencyEncoder(variables=[\"location\"])\n",
    "    X_train_enc=encoder.fit_transform(X_train,y_train)\n",
    "    X_test_enc=encoder.transform(X_test)\n",
    "\n",
    "    encoder=MeanEncoder(variables=[\"room\",\"age\",\"heating\"])\n",
    "    X_train_enc=encoder.fit_transform(X_train_enc,y_train)\n",
    "    X_test_enc=encoder.transform(X_test_enc)\n",
    "\n",
    "    encoder=OneHotEncoder(variables=[\"furniture\",\"in_site\"],drop_last=True)\n",
    "    X_train_enc=encoder.fit_transform(X_train_enc,y_train)\n",
    "    X_test_enc=encoder.transform(X_test_enc)\n",
    "\n",
    "    scaler=MinMaxScaler()\n",
    "    X_train_scaled=scaler.fit_transform(X_train_enc)\n",
    "    X_test_scaled=scaler.transform(X_test_enc)\n",
    "\n",
    "    model.fit(X_train_scaled, y_train) \n",
    "    my_scores.append(model.score(X_test_scaled, y_test)) \n",
    "print(\"-\"*5+str(model)+\"-\"*5)\n",
    "print(\"The mean value is:\",np.mean(my_scores) ) \n",
    "print(\"scores:\",my_scores)\n",
    "print(\" \") \n"
   ]
  },
  {
   "cell_type": "code",
   "execution_count": 169,
   "metadata": {},
   "outputs": [
    {
     "output_type": "execute_result",
     "data": {
      "text/plain": [
       "((903, 12), (387, 12), (903,), (387,))"
      ]
     },
     "metadata": {},
     "execution_count": 169
    }
   ],
   "source": [
    "X=df.drop([\"price\"],axis=1)\n",
    "y=df[\"price\"]\n",
    "X_train,X_test,y_train,y_test=train_test_split(X,y,test_size=0.3,random_state=0,shuffle=True)\n",
    "X_train.shape,X_test.shape,y_train.shape,y_test.shape"
   ]
  },
  {
   "cell_type": "code",
   "execution_count": 170,
   "metadata": {},
   "outputs": [],
   "source": [
    "encoder=CountFrequencyEncoder(variables=[\"location\"])\n",
    "X_train_enc=encoder.fit_transform(X_train)\n",
    "X_test_enc=encoder.transform(X_test)"
   ]
  },
  {
   "cell_type": "code",
   "execution_count": 172,
   "metadata": {},
   "outputs": [],
   "source": [
    "encoder=MeanEncoder(variables=[\"room\",\"age\",\"heating\"])\n",
    "X_train_enc=encoder.fit_transform(X_train_enc,y_train)\n",
    "X_test_enc=encoder.transform(X_test_enc)"
   ]
  },
  {
   "cell_type": "code",
   "execution_count": 173,
   "metadata": {},
   "outputs": [],
   "source": [
    "encoder=OneHotEncoder(variables=[\"furniture\",\"in_site\"],drop_last=True)\n",
    "X_train_enc=encoder.fit_transform(X_train_enc)\n",
    "X_test_enc=encoder.transform(X_test_enc)"
   ]
  },
  {
   "cell_type": "code",
   "execution_count": 174,
   "metadata": {},
   "outputs": [
    {
     "output_type": "execute_result",
     "data": {
      "text/plain": [
       "((903, 12), (387, 12))"
      ]
     },
     "metadata": {},
     "execution_count": 174
    }
   ],
   "source": [
    "X_train_enc.shape,X_test_enc.shape"
   ]
  },
  {
   "cell_type": "code",
   "execution_count": 175,
   "metadata": {},
   "outputs": [
    {
     "output_type": "execute_result",
     "data": {
      "text/plain": [
       "      net_m2         room          age  no_of_floor      heating  due  \\\n",
       "261       95  2475.760204  2454.430380            9  2845.024876  100   \n",
       "772       55  2484.000000  2198.677249           20  2845.024876  400   \n",
       "1017      60  2163.973799  2487.942857            4  1962.607261    0   \n",
       "2        100  2475.760204  2487.942857            6  1962.607261   50   \n",
       "422       90  2012.867647  1846.842105            4  1962.607261    0   \n",
       "\n",
       "      deposit  no_of_bathroom  no_of_wc  location  furniture_Boş  \\\n",
       "261      2800               2         1        33              1   \n",
       "772         0               1         1        60              1   \n",
       "1017     1200               1         1        37              1   \n",
       "2        4400               1         1        24              0   \n",
       "422         0               2         1        37              1   \n",
       "\n",
       "      in_site_Hayır  \n",
       "261               1  \n",
       "772               1  \n",
       "1017              1  \n",
       "2                 1  \n",
       "422               1  "
      ],
      "text/html": "<div>\n<style scoped>\n    .dataframe tbody tr th:only-of-type {\n        vertical-align: middle;\n    }\n\n    .dataframe tbody tr th {\n        vertical-align: top;\n    }\n\n    .dataframe thead th {\n        text-align: right;\n    }\n</style>\n<table border=\"1\" class=\"dataframe\">\n  <thead>\n    <tr style=\"text-align: right;\">\n      <th></th>\n      <th>net_m2</th>\n      <th>room</th>\n      <th>age</th>\n      <th>no_of_floor</th>\n      <th>heating</th>\n      <th>due</th>\n      <th>deposit</th>\n      <th>no_of_bathroom</th>\n      <th>no_of_wc</th>\n      <th>location</th>\n      <th>furniture_Boş</th>\n      <th>in_site_Hayır</th>\n    </tr>\n  </thead>\n  <tbody>\n    <tr>\n      <th>261</th>\n      <td>95</td>\n      <td>2475.760204</td>\n      <td>2454.430380</td>\n      <td>9</td>\n      <td>2845.024876</td>\n      <td>100</td>\n      <td>2800</td>\n      <td>2</td>\n      <td>1</td>\n      <td>33</td>\n      <td>1</td>\n      <td>1</td>\n    </tr>\n    <tr>\n      <th>772</th>\n      <td>55</td>\n      <td>2484.000000</td>\n      <td>2198.677249</td>\n      <td>20</td>\n      <td>2845.024876</td>\n      <td>400</td>\n      <td>0</td>\n      <td>1</td>\n      <td>1</td>\n      <td>60</td>\n      <td>1</td>\n      <td>1</td>\n    </tr>\n    <tr>\n      <th>1017</th>\n      <td>60</td>\n      <td>2163.973799</td>\n      <td>2487.942857</td>\n      <td>4</td>\n      <td>1962.607261</td>\n      <td>0</td>\n      <td>1200</td>\n      <td>1</td>\n      <td>1</td>\n      <td>37</td>\n      <td>1</td>\n      <td>1</td>\n    </tr>\n    <tr>\n      <th>2</th>\n      <td>100</td>\n      <td>2475.760204</td>\n      <td>2487.942857</td>\n      <td>6</td>\n      <td>1962.607261</td>\n      <td>50</td>\n      <td>4400</td>\n      <td>1</td>\n      <td>1</td>\n      <td>24</td>\n      <td>0</td>\n      <td>1</td>\n    </tr>\n    <tr>\n      <th>422</th>\n      <td>90</td>\n      <td>2012.867647</td>\n      <td>1846.842105</td>\n      <td>4</td>\n      <td>1962.607261</td>\n      <td>0</td>\n      <td>0</td>\n      <td>2</td>\n      <td>1</td>\n      <td>37</td>\n      <td>1</td>\n      <td>1</td>\n    </tr>\n  </tbody>\n</table>\n</div>"
     },
     "metadata": {},
     "execution_count": 175
    }
   ],
   "source": [
    "X_train_enc.head()"
   ]
  },
  {
   "cell_type": "code",
   "execution_count": 176,
   "metadata": {},
   "outputs": [],
   "source": [
    "scaler=MinMaxScaler()\n",
    "X_train_scaled=scaler.fit_transform(X_train_enc)\n",
    "X_test_scaled=scaler.transform(X_test_enc)"
   ]
  },
  {
   "cell_type": "code",
   "execution_count": 177,
   "metadata": {},
   "outputs": [
    {
     "output_type": "stream",
     "name": "stdout",
     "text": [
      "Train R2 : 0.6467081737179864\nTest R2 : 0.6030080819274709\nMSE : 449543.6702797503\nRMSE : 670.4801788865576\nMAE : 483.3361509954205\n"
     ]
    }
   ],
   "source": [
    "model=LGBMRegressor(max_depth=3,reg_alpha=20,reg_lambda=65)\n",
    "model.fit(X_train_scaled,y_train)\n",
    "pred=model.predict(X_test_scaled)\n",
    "print(\"Train R2 :\",model.score(X_train_scaled,y_train))\n",
    "print(\"Test R2 :\",model.score(X_test_scaled,y_test))\n",
    "print(\"MSE :\",mean_squared_error(y_test,pred))\n",
    "print(\"RMSE :\",np.sqrt(mean_squared_error(y_test,pred)))\n",
    "print(\"MAE :\",mean_absolute_error(y_test,pred))\n",
    "#overfitting"
   ]
  },
  {
   "cell_type": "code",
   "execution_count": 178,
   "metadata": {},
   "outputs": [
    {
     "output_type": "execute_result",
     "data": {
      "text/plain": [
       "      test         pred\n",
       "661   2800  2842.557074\n",
       "472   2500  1890.821190\n",
       "328   2000  1872.376162\n",
       "240   1900  1954.624004\n",
       "349   2300  2061.727109\n",
       "312   2200  2798.221954\n",
       "794   1600  1854.885237\n",
       "937   1750  1947.618695\n",
       "1011  3000  2534.606855\n",
       "211   1600  1789.242869"
      ],
      "text/html": "<div>\n<style scoped>\n    .dataframe tbody tr th:only-of-type {\n        vertical-align: middle;\n    }\n\n    .dataframe tbody tr th {\n        vertical-align: top;\n    }\n\n    .dataframe thead th {\n        text-align: right;\n    }\n</style>\n<table border=\"1\" class=\"dataframe\">\n  <thead>\n    <tr style=\"text-align: right;\">\n      <th></th>\n      <th>test</th>\n      <th>pred</th>\n    </tr>\n  </thead>\n  <tbody>\n    <tr>\n      <th>661</th>\n      <td>2800</td>\n      <td>2842.557074</td>\n    </tr>\n    <tr>\n      <th>472</th>\n      <td>2500</td>\n      <td>1890.821190</td>\n    </tr>\n    <tr>\n      <th>328</th>\n      <td>2000</td>\n      <td>1872.376162</td>\n    </tr>\n    <tr>\n      <th>240</th>\n      <td>1900</td>\n      <td>1954.624004</td>\n    </tr>\n    <tr>\n      <th>349</th>\n      <td>2300</td>\n      <td>2061.727109</td>\n    </tr>\n    <tr>\n      <th>312</th>\n      <td>2200</td>\n      <td>2798.221954</td>\n    </tr>\n    <tr>\n      <th>794</th>\n      <td>1600</td>\n      <td>1854.885237</td>\n    </tr>\n    <tr>\n      <th>937</th>\n      <td>1750</td>\n      <td>1947.618695</td>\n    </tr>\n    <tr>\n      <th>1011</th>\n      <td>3000</td>\n      <td>2534.606855</td>\n    </tr>\n    <tr>\n      <th>211</th>\n      <td>1600</td>\n      <td>1789.242869</td>\n    </tr>\n  </tbody>\n</table>\n</div>"
     },
     "metadata": {},
     "execution_count": 178
    }
   ],
   "source": [
    "pd.DataFrame({\"test\":y_test,\"pred\":pred}).head(10)"
   ]
  },
  {
   "cell_type": "code",
   "execution_count": 179,
   "metadata": {},
   "outputs": [
    {
     "output_type": "display_data",
     "data": {
      "text/plain": "<Figure size 864x360 with 1 Axes>",
      "image/svg+xml": "<?xml version=\"1.0\" encoding=\"utf-8\" standalone=\"no\"?>\r\n<!DOCTYPE svg PUBLIC \"-//W3C//DTD SVG 1.1//EN\"\r\n  \"http://www.w3.org/Graphics/SVG/1.1/DTD/svg11.dtd\">\r\n<!-- Created with matplotlib (https://matplotlib.org/) -->\r\n<svg height=\"351.274375pt\" version=\"1.1\" viewBox=\"0 0 857.046875 351.274375\" width=\"857.046875pt\" xmlns=\"http://www.w3.org/2000/svg\" xmlns:xlink=\"http://www.w3.org/1999/xlink\">\r\n <metadata>\r\n  <rdf:RDF xmlns:cc=\"http://creativecommons.org/ns#\" xmlns:dc=\"http://purl.org/dc/elements/1.1/\" xmlns:rdf=\"http://www.w3.org/1999/02/22-rdf-syntax-ns#\">\r\n   <cc:Work>\r\n    <dc:type rdf:resource=\"http://purl.org/dc/dcmitype/StillImage\"/>\r\n    <dc:date>2021-03-06T17:06:23.429395</dc:date>\r\n    <dc:format>image/svg+xml</dc:format>\r\n    <dc:creator>\r\n     <cc:Agent>\r\n      <dc:title>Matplotlib v3.3.1, https://matplotlib.org/</dc:title>\r\n     </cc:Agent>\r\n    </dc:creator>\r\n   </cc:Work>\r\n  </rdf:RDF>\r\n </metadata>\r\n <defs>\r\n  <style type=\"text/css\">*{stroke-linecap:butt;stroke-linejoin:round;}</style>\r\n </defs>\r\n <g id=\"figure_1\">\r\n  <g id=\"patch_1\">\r\n   <path d=\"M 0 351.274375 \r\nL 857.046875 351.274375 \r\nL 857.046875 0 \r\nL 0 0 \r\nz\r\n\" style=\"fill:none;\"/>\r\n  </g>\r\n  <g id=\"axes_1\">\r\n   <g id=\"patch_2\">\r\n    <path d=\"M 108.571875 313.718125 \r\nL 849.846875 313.718125 \r\nL 849.846875 22.318125 \r\nL 108.571875 22.318125 \r\nz\r\n\" style=\"fill:#ffffff;\"/>\r\n   </g>\r\n   <g id=\"patch_3\">\r\n    <path clip-path=\"url(#pe12006460e)\" d=\"M 108.571875 24.746458 \r\nL 814.548065 24.746458 \r\nL 814.548065 44.173125 \r\nL 108.571875 44.173125 \r\nz\r\n\" style=\"fill:#ea96a3;\"/>\r\n   </g>\r\n   <g id=\"patch_4\">\r\n    <path clip-path=\"url(#pe12006460e)\" d=\"M 108.571875 49.029792 \r\nL 455.508746 49.029792 \r\nL 455.508746 68.456458 \r\nL 108.571875 68.456458 \r\nz\r\n\" style=\"fill:#e19153;\"/>\r\n   </g>\r\n   <g id=\"patch_5\">\r\n    <path clip-path=\"url(#pe12006460e)\" d=\"M 108.571875 73.313125 \r\nL 411.133099 73.313125 \r\nL 411.133099 92.739792 \r\nL 108.571875 92.739792 \r\nz\r\n\" style=\"fill:#b89c49;\"/>\r\n   </g>\r\n   <g id=\"patch_6\">\r\n    <path clip-path=\"url(#pe12006460e)\" d=\"M 108.571875 97.596458 \r\nL 403.0648 97.596458 \r\nL 403.0648 117.023125 \r\nL 108.571875 117.023125 \r\nz\r\n\" style=\"fill:#98a246;\"/>\r\n   </g>\r\n   <g id=\"patch_7\">\r\n    <path clip-path=\"url(#pe12006460e)\" d=\"M 108.571875 121.879792 \r\nL 217.493916 121.879792 \r\nL 217.493916 141.306458 \r\nL 108.571875 141.306458 \r\nz\r\n\" style=\"fill:#60ae47;\"/>\r\n   </g>\r\n   <g id=\"patch_8\">\r\n    <path clip-path=\"url(#pe12006460e)\" d=\"M 108.571875 146.163125 \r\nL 201.357317 146.163125 \r\nL 201.357317 165.589792 \r\nL 108.571875 165.589792 \r\nz\r\n\" style=\"fill:#4aae8a;\"/>\r\n   </g>\r\n   <g id=\"patch_9\">\r\n    <path clip-path=\"url(#pe12006460e)\" d=\"M 108.571875 170.446458 \r\nL 193.289018 170.446458 \r\nL 193.289018 189.873125 \r\nL 108.571875 189.873125 \r\nz\r\n\" style=\"fill:#4baba4;\"/>\r\n   </g>\r\n   <g id=\"patch_10\">\r\n    <path clip-path=\"url(#pe12006460e)\" d=\"M 108.571875 194.729792 \r\nL 181.186569 194.729792 \r\nL 181.186569 214.156458 \r\nL 108.571875 214.156458 \r\nz\r\n\" style=\"fill:#4fabbc;\"/>\r\n   </g>\r\n   <g id=\"patch_11\">\r\n    <path clip-path=\"url(#pe12006460e)\" d=\"M 108.571875 219.013125 \r\nL 173.11827 219.013125 \r\nL 173.11827 238.439792 \r\nL 108.571875 238.439792 \r\nz\r\n\" style=\"fill:#6daee2;\"/>\r\n   </g>\r\n   <g id=\"patch_12\">\r\n    <path clip-path=\"url(#pe12006460e)\" d=\"M 108.571875 243.296458 \r\nL 156.981671 243.296458 \r\nL 156.981671 262.723125 \r\nL 108.571875 262.723125 \r\nz\r\n\" style=\"fill:#b6a8eb;\"/>\r\n   </g>\r\n   <g id=\"patch_13\">\r\n    <path clip-path=\"url(#pe12006460e)\" d=\"M 108.571875 267.579792 \r\nL 120.674324 267.579792 \r\nL 120.674324 287.006458 \r\nL 108.571875 287.006458 \r\nz\r\n\" style=\"fill:#df8fe7;\"/>\r\n   </g>\r\n   <g id=\"patch_14\">\r\n    <path clip-path=\"url(#pe12006460e)\" d=\"M 108.571875 291.863125 \r\nL 108.571875 291.863125 \r\nL 108.571875 311.289792 \r\nL 108.571875 311.289792 \r\nz\r\n\" style=\"fill:#e890c6;\"/>\r\n   </g>\r\n   <g id=\"matplotlib.axis_1\">\r\n    <g id=\"xtick_1\">\r\n     <g id=\"line2d_1\">\r\n      <defs>\r\n       <path d=\"M 0 0 \r\nL 0 3.5 \r\n\" id=\"m0554dc0105\" style=\"stroke:#000000;stroke-width:0.8;\"/>\r\n      </defs>\r\n      <g>\r\n       <use style=\"stroke:#000000;stroke-width:0.8;\" x=\"108.571875\" xlink:href=\"#m0554dc0105\" y=\"313.718125\"/>\r\n      </g>\r\n     </g>\r\n     <g id=\"text_1\">\r\n      <!-- 0 -->\r\n      <g transform=\"translate(105.390625 328.316562)scale(0.1 -0.1)\">\r\n       <defs>\r\n        <path d=\"M 31.78125 66.40625 \r\nQ 24.171875 66.40625 20.328125 58.90625 \r\nQ 16.5 51.421875 16.5 36.375 \r\nQ 16.5 21.390625 20.328125 13.890625 \r\nQ 24.171875 6.390625 31.78125 6.390625 \r\nQ 39.453125 6.390625 43.28125 13.890625 \r\nQ 47.125 21.390625 47.125 36.375 \r\nQ 47.125 51.421875 43.28125 58.90625 \r\nQ 39.453125 66.40625 31.78125 66.40625 \r\nz\r\nM 31.78125 74.21875 \r\nQ 44.046875 74.21875 50.515625 64.515625 \r\nQ 56.984375 54.828125 56.984375 36.375 \r\nQ 56.984375 17.96875 50.515625 8.265625 \r\nQ 44.046875 -1.421875 31.78125 -1.421875 \r\nQ 19.53125 -1.421875 13.0625 8.265625 \r\nQ 6.59375 17.96875 6.59375 36.375 \r\nQ 6.59375 54.828125 13.0625 64.515625 \r\nQ 19.53125 74.21875 31.78125 74.21875 \r\nz\r\n\" id=\"DejaVuSans-48\"/>\r\n       </defs>\r\n       <use xlink:href=\"#DejaVuSans-48\"/>\r\n      </g>\r\n     </g>\r\n    </g>\r\n    <g id=\"xtick_2\">\r\n     <g id=\"line2d_2\">\r\n      <g>\r\n       <use style=\"stroke:#000000;stroke-width:0.8;\" x=\"209.425616\" xlink:href=\"#m0554dc0105\" y=\"313.718125\"/>\r\n      </g>\r\n     </g>\r\n     <g id=\"text_2\">\r\n      <!-- 25 -->\r\n      <g transform=\"translate(203.063116 328.316562)scale(0.1 -0.1)\">\r\n       <defs>\r\n        <path d=\"M 19.1875 8.296875 \r\nL 53.609375 8.296875 \r\nL 53.609375 0 \r\nL 7.328125 0 \r\nL 7.328125 8.296875 \r\nQ 12.9375 14.109375 22.625 23.890625 \r\nQ 32.328125 33.6875 34.8125 36.53125 \r\nQ 39.546875 41.84375 41.421875 45.53125 \r\nQ 43.3125 49.21875 43.3125 52.78125 \r\nQ 43.3125 58.59375 39.234375 62.25 \r\nQ 35.15625 65.921875 28.609375 65.921875 \r\nQ 23.96875 65.921875 18.8125 64.3125 \r\nQ 13.671875 62.703125 7.8125 59.421875 \r\nL 7.8125 69.390625 \r\nQ 13.765625 71.78125 18.9375 73 \r\nQ 24.125 74.21875 28.421875 74.21875 \r\nQ 39.75 74.21875 46.484375 68.546875 \r\nQ 53.21875 62.890625 53.21875 53.421875 \r\nQ 53.21875 48.921875 51.53125 44.890625 \r\nQ 49.859375 40.875 45.40625 35.40625 \r\nQ 44.1875 33.984375 37.640625 27.21875 \r\nQ 31.109375 20.453125 19.1875 8.296875 \r\nz\r\n\" id=\"DejaVuSans-50\"/>\r\n        <path d=\"M 10.796875 72.90625 \r\nL 49.515625 72.90625 \r\nL 49.515625 64.59375 \r\nL 19.828125 64.59375 \r\nL 19.828125 46.734375 \r\nQ 21.96875 47.46875 24.109375 47.828125 \r\nQ 26.265625 48.1875 28.421875 48.1875 \r\nQ 40.625 48.1875 47.75 41.5 \r\nQ 54.890625 34.8125 54.890625 23.390625 \r\nQ 54.890625 11.625 47.5625 5.09375 \r\nQ 40.234375 -1.421875 26.90625 -1.421875 \r\nQ 22.3125 -1.421875 17.546875 -0.640625 \r\nQ 12.796875 0.140625 7.71875 1.703125 \r\nL 7.71875 11.625 \r\nQ 12.109375 9.234375 16.796875 8.0625 \r\nQ 21.484375 6.890625 26.703125 6.890625 \r\nQ 35.15625 6.890625 40.078125 11.328125 \r\nQ 45.015625 15.765625 45.015625 23.390625 \r\nQ 45.015625 31 40.078125 35.4375 \r\nQ 35.15625 39.890625 26.703125 39.890625 \r\nQ 22.75 39.890625 18.8125 39.015625 \r\nQ 14.890625 38.140625 10.796875 36.28125 \r\nz\r\n\" id=\"DejaVuSans-53\"/>\r\n       </defs>\r\n       <use xlink:href=\"#DejaVuSans-50\"/>\r\n       <use x=\"63.623047\" xlink:href=\"#DejaVuSans-53\"/>\r\n      </g>\r\n     </g>\r\n    </g>\r\n    <g id=\"xtick_3\">\r\n     <g id=\"line2d_3\">\r\n      <g>\r\n       <use style=\"stroke:#000000;stroke-width:0.8;\" x=\"310.279358\" xlink:href=\"#m0554dc0105\" y=\"313.718125\"/>\r\n      </g>\r\n     </g>\r\n     <g id=\"text_3\">\r\n      <!-- 50 -->\r\n      <g transform=\"translate(303.916858 328.316562)scale(0.1 -0.1)\">\r\n       <use xlink:href=\"#DejaVuSans-53\"/>\r\n       <use x=\"63.623047\" xlink:href=\"#DejaVuSans-48\"/>\r\n      </g>\r\n     </g>\r\n    </g>\r\n    <g id=\"xtick_4\">\r\n     <g id=\"line2d_4\">\r\n      <g>\r\n       <use style=\"stroke:#000000;stroke-width:0.8;\" x=\"411.133099\" xlink:href=\"#m0554dc0105\" y=\"313.718125\"/>\r\n      </g>\r\n     </g>\r\n     <g id=\"text_4\">\r\n      <!-- 75 -->\r\n      <g transform=\"translate(404.770599 328.316562)scale(0.1 -0.1)\">\r\n       <defs>\r\n        <path d=\"M 8.203125 72.90625 \r\nL 55.078125 72.90625 \r\nL 55.078125 68.703125 \r\nL 28.609375 0 \r\nL 18.3125 0 \r\nL 43.21875 64.59375 \r\nL 8.203125 64.59375 \r\nz\r\n\" id=\"DejaVuSans-55\"/>\r\n       </defs>\r\n       <use xlink:href=\"#DejaVuSans-55\"/>\r\n       <use x=\"63.623047\" xlink:href=\"#DejaVuSans-53\"/>\r\n      </g>\r\n     </g>\r\n    </g>\r\n    <g id=\"xtick_5\">\r\n     <g id=\"line2d_5\">\r\n      <g>\r\n       <use style=\"stroke:#000000;stroke-width:0.8;\" x=\"511.986841\" xlink:href=\"#m0554dc0105\" y=\"313.718125\"/>\r\n      </g>\r\n     </g>\r\n     <g id=\"text_5\">\r\n      <!-- 100 -->\r\n      <g transform=\"translate(502.443091 328.316562)scale(0.1 -0.1)\">\r\n       <defs>\r\n        <path d=\"M 12.40625 8.296875 \r\nL 28.515625 8.296875 \r\nL 28.515625 63.921875 \r\nL 10.984375 60.40625 \r\nL 10.984375 69.390625 \r\nL 28.421875 72.90625 \r\nL 38.28125 72.90625 \r\nL 38.28125 8.296875 \r\nL 54.390625 8.296875 \r\nL 54.390625 0 \r\nL 12.40625 0 \r\nz\r\n\" id=\"DejaVuSans-49\"/>\r\n       </defs>\r\n       <use xlink:href=\"#DejaVuSans-49\"/>\r\n       <use x=\"63.623047\" xlink:href=\"#DejaVuSans-48\"/>\r\n       <use x=\"127.246094\" xlink:href=\"#DejaVuSans-48\"/>\r\n      </g>\r\n     </g>\r\n    </g>\r\n    <g id=\"xtick_6\">\r\n     <g id=\"line2d_6\">\r\n      <g>\r\n       <use style=\"stroke:#000000;stroke-width:0.8;\" x=\"612.840582\" xlink:href=\"#m0554dc0105\" y=\"313.718125\"/>\r\n      </g>\r\n     </g>\r\n     <g id=\"text_6\">\r\n      <!-- 125 -->\r\n      <g transform=\"translate(603.296832 328.316562)scale(0.1 -0.1)\">\r\n       <use xlink:href=\"#DejaVuSans-49\"/>\r\n       <use x=\"63.623047\" xlink:href=\"#DejaVuSans-50\"/>\r\n       <use x=\"127.246094\" xlink:href=\"#DejaVuSans-53\"/>\r\n      </g>\r\n     </g>\r\n    </g>\r\n    <g id=\"xtick_7\">\r\n     <g id=\"line2d_7\">\r\n      <g>\r\n       <use style=\"stroke:#000000;stroke-width:0.8;\" x=\"713.694324\" xlink:href=\"#m0554dc0105\" y=\"313.718125\"/>\r\n      </g>\r\n     </g>\r\n     <g id=\"text_7\">\r\n      <!-- 150 -->\r\n      <g transform=\"translate(704.150574 328.316562)scale(0.1 -0.1)\">\r\n       <use xlink:href=\"#DejaVuSans-49\"/>\r\n       <use x=\"63.623047\" xlink:href=\"#DejaVuSans-53\"/>\r\n       <use x=\"127.246094\" xlink:href=\"#DejaVuSans-48\"/>\r\n      </g>\r\n     </g>\r\n    </g>\r\n    <g id=\"xtick_8\">\r\n     <g id=\"line2d_8\">\r\n      <g>\r\n       <use style=\"stroke:#000000;stroke-width:0.8;\" x=\"814.548065\" xlink:href=\"#m0554dc0105\" y=\"313.718125\"/>\r\n      </g>\r\n     </g>\r\n     <g id=\"text_8\">\r\n      <!-- 175 -->\r\n      <g transform=\"translate(805.004315 328.316562)scale(0.1 -0.1)\">\r\n       <use xlink:href=\"#DejaVuSans-49\"/>\r\n       <use x=\"63.623047\" xlink:href=\"#DejaVuSans-55\"/>\r\n       <use x=\"127.246094\" xlink:href=\"#DejaVuSans-53\"/>\r\n      </g>\r\n     </g>\r\n    </g>\r\n    <g id=\"text_9\">\r\n     <!-- Value -->\r\n     <g transform=\"translate(465.478125 341.994687)scale(0.1 -0.1)\">\r\n      <defs>\r\n       <path d=\"M 28.609375 0 \r\nL 0.78125 72.90625 \r\nL 11.078125 72.90625 \r\nL 34.1875 11.53125 \r\nL 57.328125 72.90625 \r\nL 67.578125 72.90625 \r\nL 39.796875 0 \r\nz\r\n\" id=\"DejaVuSans-86\"/>\r\n       <path d=\"M 34.28125 27.484375 \r\nQ 23.390625 27.484375 19.1875 25 \r\nQ 14.984375 22.515625 14.984375 16.5 \r\nQ 14.984375 11.71875 18.140625 8.90625 \r\nQ 21.296875 6.109375 26.703125 6.109375 \r\nQ 34.1875 6.109375 38.703125 11.40625 \r\nQ 43.21875 16.703125 43.21875 25.484375 \r\nL 43.21875 27.484375 \r\nz\r\nM 52.203125 31.203125 \r\nL 52.203125 0 \r\nL 43.21875 0 \r\nL 43.21875 8.296875 \r\nQ 40.140625 3.328125 35.546875 0.953125 \r\nQ 30.953125 -1.421875 24.3125 -1.421875 \r\nQ 15.921875 -1.421875 10.953125 3.296875 \r\nQ 6 8.015625 6 15.921875 \r\nQ 6 25.140625 12.171875 29.828125 \r\nQ 18.359375 34.515625 30.609375 34.515625 \r\nL 43.21875 34.515625 \r\nL 43.21875 35.40625 \r\nQ 43.21875 41.609375 39.140625 45 \r\nQ 35.0625 48.390625 27.6875 48.390625 \r\nQ 23 48.390625 18.546875 47.265625 \r\nQ 14.109375 46.140625 10.015625 43.890625 \r\nL 10.015625 52.203125 \r\nQ 14.9375 54.109375 19.578125 55.046875 \r\nQ 24.21875 56 28.609375 56 \r\nQ 40.484375 56 46.34375 49.84375 \r\nQ 52.203125 43.703125 52.203125 31.203125 \r\nz\r\n\" id=\"DejaVuSans-97\"/>\r\n       <path d=\"M 9.421875 75.984375 \r\nL 18.40625 75.984375 \r\nL 18.40625 0 \r\nL 9.421875 0 \r\nz\r\n\" id=\"DejaVuSans-108\"/>\r\n       <path d=\"M 8.5 21.578125 \r\nL 8.5 54.6875 \r\nL 17.484375 54.6875 \r\nL 17.484375 21.921875 \r\nQ 17.484375 14.15625 20.5 10.265625 \r\nQ 23.53125 6.390625 29.59375 6.390625 \r\nQ 36.859375 6.390625 41.078125 11.03125 \r\nQ 45.3125 15.671875 45.3125 23.6875 \r\nL 45.3125 54.6875 \r\nL 54.296875 54.6875 \r\nL 54.296875 0 \r\nL 45.3125 0 \r\nL 45.3125 8.40625 \r\nQ 42.046875 3.421875 37.71875 1 \r\nQ 33.40625 -1.421875 27.6875 -1.421875 \r\nQ 18.265625 -1.421875 13.375 4.4375 \r\nQ 8.5 10.296875 8.5 21.578125 \r\nz\r\nM 31.109375 56 \r\nz\r\n\" id=\"DejaVuSans-117\"/>\r\n       <path d=\"M 56.203125 29.59375 \r\nL 56.203125 25.203125 \r\nL 14.890625 25.203125 \r\nQ 15.484375 15.921875 20.484375 11.0625 \r\nQ 25.484375 6.203125 34.421875 6.203125 \r\nQ 39.59375 6.203125 44.453125 7.46875 \r\nQ 49.3125 8.734375 54.109375 11.28125 \r\nL 54.109375 2.78125 \r\nQ 49.265625 0.734375 44.1875 -0.34375 \r\nQ 39.109375 -1.421875 33.890625 -1.421875 \r\nQ 20.796875 -1.421875 13.15625 6.1875 \r\nQ 5.515625 13.8125 5.515625 26.8125 \r\nQ 5.515625 40.234375 12.765625 48.109375 \r\nQ 20.015625 56 32.328125 56 \r\nQ 43.359375 56 49.78125 48.890625 \r\nQ 56.203125 41.796875 56.203125 29.59375 \r\nz\r\nM 47.21875 32.234375 \r\nQ 47.125 39.59375 43.09375 43.984375 \r\nQ 39.0625 48.390625 32.421875 48.390625 \r\nQ 24.90625 48.390625 20.390625 44.140625 \r\nQ 15.875 39.890625 15.1875 32.171875 \r\nz\r\n\" id=\"DejaVuSans-101\"/>\r\n      </defs>\r\n      <use xlink:href=\"#DejaVuSans-86\"/>\r\n      <use x=\"60.658203\" xlink:href=\"#DejaVuSans-97\"/>\r\n      <use x=\"121.9375\" xlink:href=\"#DejaVuSans-108\"/>\r\n      <use x=\"149.720703\" xlink:href=\"#DejaVuSans-117\"/>\r\n      <use x=\"213.099609\" xlink:href=\"#DejaVuSans-101\"/>\r\n     </g>\r\n    </g>\r\n   </g>\r\n   <g id=\"matplotlib.axis_2\">\r\n    <g id=\"ytick_1\">\r\n     <g id=\"line2d_9\">\r\n      <defs>\r\n       <path d=\"M 0 0 \r\nL -3.5 0 \r\n\" id=\"m13377c4f88\" style=\"stroke:#000000;stroke-width:0.8;\"/>\r\n      </defs>\r\n      <g>\r\n       <use style=\"stroke:#000000;stroke-width:0.8;\" x=\"108.571875\" xlink:href=\"#m13377c4f88\" y=\"34.459792\"/>\r\n      </g>\r\n     </g>\r\n     <g id=\"text_10\">\r\n      <!-- location -->\r\n      <g transform=\"translate(61.89375 38.25901)scale(0.1 -0.1)\">\r\n       <defs>\r\n        <path d=\"M 30.609375 48.390625 \r\nQ 23.390625 48.390625 19.1875 42.75 \r\nQ 14.984375 37.109375 14.984375 27.296875 \r\nQ 14.984375 17.484375 19.15625 11.84375 \r\nQ 23.34375 6.203125 30.609375 6.203125 \r\nQ 37.796875 6.203125 41.984375 11.859375 \r\nQ 46.1875 17.53125 46.1875 27.296875 \r\nQ 46.1875 37.015625 41.984375 42.703125 \r\nQ 37.796875 48.390625 30.609375 48.390625 \r\nz\r\nM 30.609375 56 \r\nQ 42.328125 56 49.015625 48.375 \r\nQ 55.71875 40.765625 55.71875 27.296875 \r\nQ 55.71875 13.875 49.015625 6.21875 \r\nQ 42.328125 -1.421875 30.609375 -1.421875 \r\nQ 18.84375 -1.421875 12.171875 6.21875 \r\nQ 5.515625 13.875 5.515625 27.296875 \r\nQ 5.515625 40.765625 12.171875 48.375 \r\nQ 18.84375 56 30.609375 56 \r\nz\r\n\" id=\"DejaVuSans-111\"/>\r\n        <path d=\"M 48.78125 52.59375 \r\nL 48.78125 44.1875 \r\nQ 44.96875 46.296875 41.140625 47.34375 \r\nQ 37.3125 48.390625 33.40625 48.390625 \r\nQ 24.65625 48.390625 19.8125 42.84375 \r\nQ 14.984375 37.3125 14.984375 27.296875 \r\nQ 14.984375 17.28125 19.8125 11.734375 \r\nQ 24.65625 6.203125 33.40625 6.203125 \r\nQ 37.3125 6.203125 41.140625 7.25 \r\nQ 44.96875 8.296875 48.78125 10.40625 \r\nL 48.78125 2.09375 \r\nQ 45.015625 0.34375 40.984375 -0.53125 \r\nQ 36.96875 -1.421875 32.421875 -1.421875 \r\nQ 20.0625 -1.421875 12.78125 6.34375 \r\nQ 5.515625 14.109375 5.515625 27.296875 \r\nQ 5.515625 40.671875 12.859375 48.328125 \r\nQ 20.21875 56 33.015625 56 \r\nQ 37.15625 56 41.109375 55.140625 \r\nQ 45.0625 54.296875 48.78125 52.59375 \r\nz\r\n\" id=\"DejaVuSans-99\"/>\r\n        <path d=\"M 18.3125 70.21875 \r\nL 18.3125 54.6875 \r\nL 36.8125 54.6875 \r\nL 36.8125 47.703125 \r\nL 18.3125 47.703125 \r\nL 18.3125 18.015625 \r\nQ 18.3125 11.328125 20.140625 9.421875 \r\nQ 21.96875 7.515625 27.59375 7.515625 \r\nL 36.8125 7.515625 \r\nL 36.8125 0 \r\nL 27.59375 0 \r\nQ 17.1875 0 13.234375 3.875 \r\nQ 9.28125 7.765625 9.28125 18.015625 \r\nL 9.28125 47.703125 \r\nL 2.6875 47.703125 \r\nL 2.6875 54.6875 \r\nL 9.28125 54.6875 \r\nL 9.28125 70.21875 \r\nz\r\n\" id=\"DejaVuSans-116\"/>\r\n        <path d=\"M 9.421875 54.6875 \r\nL 18.40625 54.6875 \r\nL 18.40625 0 \r\nL 9.421875 0 \r\nz\r\nM 9.421875 75.984375 \r\nL 18.40625 75.984375 \r\nL 18.40625 64.59375 \r\nL 9.421875 64.59375 \r\nz\r\n\" id=\"DejaVuSans-105\"/>\r\n        <path d=\"M 54.890625 33.015625 \r\nL 54.890625 0 \r\nL 45.90625 0 \r\nL 45.90625 32.71875 \r\nQ 45.90625 40.484375 42.875 44.328125 \r\nQ 39.84375 48.1875 33.796875 48.1875 \r\nQ 26.515625 48.1875 22.3125 43.546875 \r\nQ 18.109375 38.921875 18.109375 30.90625 \r\nL 18.109375 0 \r\nL 9.078125 0 \r\nL 9.078125 54.6875 \r\nL 18.109375 54.6875 \r\nL 18.109375 46.1875 \r\nQ 21.34375 51.125 25.703125 53.5625 \r\nQ 30.078125 56 35.796875 56 \r\nQ 45.21875 56 50.046875 50.171875 \r\nQ 54.890625 44.34375 54.890625 33.015625 \r\nz\r\n\" id=\"DejaVuSans-110\"/>\r\n       </defs>\r\n       <use xlink:href=\"#DejaVuSans-108\"/>\r\n       <use x=\"27.783203\" xlink:href=\"#DejaVuSans-111\"/>\r\n       <use x=\"88.964844\" xlink:href=\"#DejaVuSans-99\"/>\r\n       <use x=\"143.945312\" xlink:href=\"#DejaVuSans-97\"/>\r\n       <use x=\"205.224609\" xlink:href=\"#DejaVuSans-116\"/>\r\n       <use x=\"244.433594\" xlink:href=\"#DejaVuSans-105\"/>\r\n       <use x=\"272.216797\" xlink:href=\"#DejaVuSans-111\"/>\r\n       <use x=\"333.398438\" xlink:href=\"#DejaVuSans-110\"/>\r\n      </g>\r\n     </g>\r\n    </g>\r\n    <g id=\"ytick_2\">\r\n     <g id=\"line2d_10\">\r\n      <g>\r\n       <use style=\"stroke:#000000;stroke-width:0.8;\" x=\"108.571875\" xlink:href=\"#m13377c4f88\" y=\"58.743125\"/>\r\n      </g>\r\n     </g>\r\n     <g id=\"text_11\">\r\n      <!-- no_of_floor -->\r\n      <g transform=\"translate(46.829688 62.542344)scale(0.1 -0.1)\">\r\n       <defs>\r\n        <path d=\"M 50.984375 -16.609375 \r\nL 50.984375 -23.578125 \r\nL -0.984375 -23.578125 \r\nL -0.984375 -16.609375 \r\nz\r\n\" id=\"DejaVuSans-95\"/>\r\n        <path d=\"M 37.109375 75.984375 \r\nL 37.109375 68.5 \r\nL 28.515625 68.5 \r\nQ 23.6875 68.5 21.796875 66.546875 \r\nQ 19.921875 64.59375 19.921875 59.515625 \r\nL 19.921875 54.6875 \r\nL 34.71875 54.6875 \r\nL 34.71875 47.703125 \r\nL 19.921875 47.703125 \r\nL 19.921875 0 \r\nL 10.890625 0 \r\nL 10.890625 47.703125 \r\nL 2.296875 47.703125 \r\nL 2.296875 54.6875 \r\nL 10.890625 54.6875 \r\nL 10.890625 58.5 \r\nQ 10.890625 67.625 15.140625 71.796875 \r\nQ 19.390625 75.984375 28.609375 75.984375 \r\nz\r\n\" id=\"DejaVuSans-102\"/>\r\n        <path d=\"M 41.109375 46.296875 \r\nQ 39.59375 47.171875 37.8125 47.578125 \r\nQ 36.03125 48 33.890625 48 \r\nQ 26.265625 48 22.1875 43.046875 \r\nQ 18.109375 38.09375 18.109375 28.8125 \r\nL 18.109375 0 \r\nL 9.078125 0 \r\nL 9.078125 54.6875 \r\nL 18.109375 54.6875 \r\nL 18.109375 46.1875 \r\nQ 20.953125 51.171875 25.484375 53.578125 \r\nQ 30.03125 56 36.53125 56 \r\nQ 37.453125 56 38.578125 55.875 \r\nQ 39.703125 55.765625 41.0625 55.515625 \r\nz\r\n\" id=\"DejaVuSans-114\"/>\r\n       </defs>\r\n       <use xlink:href=\"#DejaVuSans-110\"/>\r\n       <use x=\"63.378906\" xlink:href=\"#DejaVuSans-111\"/>\r\n       <use x=\"124.560547\" xlink:href=\"#DejaVuSans-95\"/>\r\n       <use x=\"174.560547\" xlink:href=\"#DejaVuSans-111\"/>\r\n       <use x=\"235.742188\" xlink:href=\"#DejaVuSans-102\"/>\r\n       <use x=\"270.947266\" xlink:href=\"#DejaVuSans-95\"/>\r\n       <use x=\"320.947266\" xlink:href=\"#DejaVuSans-102\"/>\r\n       <use x=\"356.152344\" xlink:href=\"#DejaVuSans-108\"/>\r\n       <use x=\"383.935547\" xlink:href=\"#DejaVuSans-111\"/>\r\n       <use x=\"445.117188\" xlink:href=\"#DejaVuSans-111\"/>\r\n       <use x=\"506.298828\" xlink:href=\"#DejaVuSans-114\"/>\r\n      </g>\r\n     </g>\r\n    </g>\r\n    <g id=\"ytick_3\">\r\n     <g id=\"line2d_11\">\r\n      <g>\r\n       <use style=\"stroke:#000000;stroke-width:0.8;\" x=\"108.571875\" xlink:href=\"#m13377c4f88\" y=\"83.026458\"/>\r\n      </g>\r\n     </g>\r\n     <g id=\"text_12\">\r\n      <!-- deposit -->\r\n      <g transform=\"translate(64.695312 86.825677)scale(0.1 -0.1)\">\r\n       <defs>\r\n        <path d=\"M 45.40625 46.390625 \r\nL 45.40625 75.984375 \r\nL 54.390625 75.984375 \r\nL 54.390625 0 \r\nL 45.40625 0 \r\nL 45.40625 8.203125 \r\nQ 42.578125 3.328125 38.25 0.953125 \r\nQ 33.9375 -1.421875 27.875 -1.421875 \r\nQ 17.96875 -1.421875 11.734375 6.484375 \r\nQ 5.515625 14.40625 5.515625 27.296875 \r\nQ 5.515625 40.1875 11.734375 48.09375 \r\nQ 17.96875 56 27.875 56 \r\nQ 33.9375 56 38.25 53.625 \r\nQ 42.578125 51.265625 45.40625 46.390625 \r\nz\r\nM 14.796875 27.296875 \r\nQ 14.796875 17.390625 18.875 11.75 \r\nQ 22.953125 6.109375 30.078125 6.109375 \r\nQ 37.203125 6.109375 41.296875 11.75 \r\nQ 45.40625 17.390625 45.40625 27.296875 \r\nQ 45.40625 37.203125 41.296875 42.84375 \r\nQ 37.203125 48.484375 30.078125 48.484375 \r\nQ 22.953125 48.484375 18.875 42.84375 \r\nQ 14.796875 37.203125 14.796875 27.296875 \r\nz\r\n\" id=\"DejaVuSans-100\"/>\r\n        <path d=\"M 18.109375 8.203125 \r\nL 18.109375 -20.796875 \r\nL 9.078125 -20.796875 \r\nL 9.078125 54.6875 \r\nL 18.109375 54.6875 \r\nL 18.109375 46.390625 \r\nQ 20.953125 51.265625 25.265625 53.625 \r\nQ 29.59375 56 35.59375 56 \r\nQ 45.5625 56 51.78125 48.09375 \r\nQ 58.015625 40.1875 58.015625 27.296875 \r\nQ 58.015625 14.40625 51.78125 6.484375 \r\nQ 45.5625 -1.421875 35.59375 -1.421875 \r\nQ 29.59375 -1.421875 25.265625 0.953125 \r\nQ 20.953125 3.328125 18.109375 8.203125 \r\nz\r\nM 48.6875 27.296875 \r\nQ 48.6875 37.203125 44.609375 42.84375 \r\nQ 40.53125 48.484375 33.40625 48.484375 \r\nQ 26.265625 48.484375 22.1875 42.84375 \r\nQ 18.109375 37.203125 18.109375 27.296875 \r\nQ 18.109375 17.390625 22.1875 11.75 \r\nQ 26.265625 6.109375 33.40625 6.109375 \r\nQ 40.53125 6.109375 44.609375 11.75 \r\nQ 48.6875 17.390625 48.6875 27.296875 \r\nz\r\n\" id=\"DejaVuSans-112\"/>\r\n        <path d=\"M 44.28125 53.078125 \r\nL 44.28125 44.578125 \r\nQ 40.484375 46.53125 36.375 47.5 \r\nQ 32.28125 48.484375 27.875 48.484375 \r\nQ 21.1875 48.484375 17.84375 46.4375 \r\nQ 14.5 44.390625 14.5 40.28125 \r\nQ 14.5 37.15625 16.890625 35.375 \r\nQ 19.28125 33.59375 26.515625 31.984375 \r\nL 29.59375 31.296875 \r\nQ 39.15625 29.25 43.1875 25.515625 \r\nQ 47.21875 21.78125 47.21875 15.09375 \r\nQ 47.21875 7.46875 41.1875 3.015625 \r\nQ 35.15625 -1.421875 24.609375 -1.421875 \r\nQ 20.21875 -1.421875 15.453125 -0.5625 \r\nQ 10.6875 0.296875 5.421875 2 \r\nL 5.421875 11.28125 \r\nQ 10.40625 8.6875 15.234375 7.390625 \r\nQ 20.0625 6.109375 24.8125 6.109375 \r\nQ 31.15625 6.109375 34.5625 8.28125 \r\nQ 37.984375 10.453125 37.984375 14.40625 \r\nQ 37.984375 18.0625 35.515625 20.015625 \r\nQ 33.0625 21.96875 24.703125 23.78125 \r\nL 21.578125 24.515625 \r\nQ 13.234375 26.265625 9.515625 29.90625 \r\nQ 5.8125 33.546875 5.8125 39.890625 \r\nQ 5.8125 47.609375 11.28125 51.796875 \r\nQ 16.75 56 26.8125 56 \r\nQ 31.78125 56 36.171875 55.265625 \r\nQ 40.578125 54.546875 44.28125 53.078125 \r\nz\r\n\" id=\"DejaVuSans-115\"/>\r\n       </defs>\r\n       <use xlink:href=\"#DejaVuSans-100\"/>\r\n       <use x=\"63.476562\" xlink:href=\"#DejaVuSans-101\"/>\r\n       <use x=\"125\" xlink:href=\"#DejaVuSans-112\"/>\r\n       <use x=\"188.476562\" xlink:href=\"#DejaVuSans-111\"/>\r\n       <use x=\"249.658203\" xlink:href=\"#DejaVuSans-115\"/>\r\n       <use x=\"301.757812\" xlink:href=\"#DejaVuSans-105\"/>\r\n       <use x=\"329.541016\" xlink:href=\"#DejaVuSans-116\"/>\r\n      </g>\r\n     </g>\r\n    </g>\r\n    <g id=\"ytick_4\">\r\n     <g id=\"line2d_12\">\r\n      <g>\r\n       <use style=\"stroke:#000000;stroke-width:0.8;\" x=\"108.571875\" xlink:href=\"#m13377c4f88\" y=\"107.309792\"/>\r\n      </g>\r\n     </g>\r\n     <g id=\"text_13\">\r\n      <!-- net_m2 -->\r\n      <g transform=\"translate(64.057813 111.020729)scale(0.1 -0.1)\">\r\n       <defs>\r\n        <path d=\"M 52 44.1875 \r\nQ 55.375 50.25 60.0625 53.125 \r\nQ 64.75 56 71.09375 56 \r\nQ 79.640625 56 84.28125 50.015625 \r\nQ 88.921875 44.046875 88.921875 33.015625 \r\nL 88.921875 0 \r\nL 79.890625 0 \r\nL 79.890625 32.71875 \r\nQ 79.890625 40.578125 77.09375 44.375 \r\nQ 74.3125 48.1875 68.609375 48.1875 \r\nQ 61.625 48.1875 57.5625 43.546875 \r\nQ 53.515625 38.921875 53.515625 30.90625 \r\nL 53.515625 0 \r\nL 44.484375 0 \r\nL 44.484375 32.71875 \r\nQ 44.484375 40.625 41.703125 44.40625 \r\nQ 38.921875 48.1875 33.109375 48.1875 \r\nQ 26.21875 48.1875 22.15625 43.53125 \r\nQ 18.109375 38.875 18.109375 30.90625 \r\nL 18.109375 0 \r\nL 9.078125 0 \r\nL 9.078125 54.6875 \r\nL 18.109375 54.6875 \r\nL 18.109375 46.1875 \r\nQ 21.1875 51.21875 25.484375 53.609375 \r\nQ 29.78125 56 35.6875 56 \r\nQ 41.65625 56 45.828125 52.96875 \r\nQ 50 49.953125 52 44.1875 \r\nz\r\n\" id=\"DejaVuSans-109\"/>\r\n       </defs>\r\n       <use xlink:href=\"#DejaVuSans-110\"/>\r\n       <use x=\"63.378906\" xlink:href=\"#DejaVuSans-101\"/>\r\n       <use x=\"124.902344\" xlink:href=\"#DejaVuSans-116\"/>\r\n       <use x=\"164.111328\" xlink:href=\"#DejaVuSans-95\"/>\r\n       <use x=\"214.111328\" xlink:href=\"#DejaVuSans-109\"/>\r\n       <use x=\"311.523438\" xlink:href=\"#DejaVuSans-50\"/>\r\n      </g>\r\n     </g>\r\n    </g>\r\n    <g id=\"ytick_5\">\r\n     <g id=\"line2d_13\">\r\n      <g>\r\n       <use style=\"stroke:#000000;stroke-width:0.8;\" x=\"108.571875\" xlink:href=\"#m13377c4f88\" y=\"131.593125\"/>\r\n      </g>\r\n     </g>\r\n     <g id=\"text_14\">\r\n      <!-- age -->\r\n      <g transform=\"translate(82.942188 135.392344)scale(0.1 -0.1)\">\r\n       <defs>\r\n        <path d=\"M 45.40625 27.984375 \r\nQ 45.40625 37.75 41.375 43.109375 \r\nQ 37.359375 48.484375 30.078125 48.484375 \r\nQ 22.859375 48.484375 18.828125 43.109375 \r\nQ 14.796875 37.75 14.796875 27.984375 \r\nQ 14.796875 18.265625 18.828125 12.890625 \r\nQ 22.859375 7.515625 30.078125 7.515625 \r\nQ 37.359375 7.515625 41.375 12.890625 \r\nQ 45.40625 18.265625 45.40625 27.984375 \r\nz\r\nM 54.390625 6.78125 \r\nQ 54.390625 -7.171875 48.1875 -13.984375 \r\nQ 42 -20.796875 29.203125 -20.796875 \r\nQ 24.46875 -20.796875 20.265625 -20.09375 \r\nQ 16.0625 -19.390625 12.109375 -17.921875 \r\nL 12.109375 -9.1875 \r\nQ 16.0625 -11.328125 19.921875 -12.34375 \r\nQ 23.78125 -13.375 27.78125 -13.375 \r\nQ 36.625 -13.375 41.015625 -8.765625 \r\nQ 45.40625 -4.15625 45.40625 5.171875 \r\nL 45.40625 9.625 \r\nQ 42.625 4.78125 38.28125 2.390625 \r\nQ 33.9375 0 27.875 0 \r\nQ 17.828125 0 11.671875 7.65625 \r\nQ 5.515625 15.328125 5.515625 27.984375 \r\nQ 5.515625 40.671875 11.671875 48.328125 \r\nQ 17.828125 56 27.875 56 \r\nQ 33.9375 56 38.28125 53.609375 \r\nQ 42.625 51.21875 45.40625 46.390625 \r\nL 45.40625 54.6875 \r\nL 54.390625 54.6875 \r\nz\r\n\" id=\"DejaVuSans-103\"/>\r\n       </defs>\r\n       <use xlink:href=\"#DejaVuSans-97\"/>\r\n       <use x=\"61.279297\" xlink:href=\"#DejaVuSans-103\"/>\r\n       <use x=\"124.755859\" xlink:href=\"#DejaVuSans-101\"/>\r\n      </g>\r\n     </g>\r\n    </g>\r\n    <g id=\"ytick_6\">\r\n     <g id=\"line2d_14\">\r\n      <g>\r\n       <use style=\"stroke:#000000;stroke-width:0.8;\" x=\"108.571875\" xlink:href=\"#m13377c4f88\" y=\"155.876458\"/>\r\n      </g>\r\n     </g>\r\n     <g id=\"text_15\">\r\n      <!-- due -->\r\n      <g transform=\"translate(82.732813 159.675677)scale(0.1 -0.1)\">\r\n       <use xlink:href=\"#DejaVuSans-100\"/>\r\n       <use x=\"63.476562\" xlink:href=\"#DejaVuSans-117\"/>\r\n       <use x=\"126.855469\" xlink:href=\"#DejaVuSans-101\"/>\r\n      </g>\r\n     </g>\r\n    </g>\r\n    <g id=\"ytick_7\">\r\n     <g id=\"line2d_15\">\r\n      <g>\r\n       <use style=\"stroke:#000000;stroke-width:0.8;\" x=\"108.571875\" xlink:href=\"#m13377c4f88\" y=\"180.159792\"/>\r\n      </g>\r\n     </g>\r\n     <g id=\"text_16\">\r\n      <!-- no_of_bathroom -->\r\n      <g transform=\"translate(20.878125 183.95901)scale(0.1 -0.1)\">\r\n       <defs>\r\n        <path d=\"M 48.6875 27.296875 \r\nQ 48.6875 37.203125 44.609375 42.84375 \r\nQ 40.53125 48.484375 33.40625 48.484375 \r\nQ 26.265625 48.484375 22.1875 42.84375 \r\nQ 18.109375 37.203125 18.109375 27.296875 \r\nQ 18.109375 17.390625 22.1875 11.75 \r\nQ 26.265625 6.109375 33.40625 6.109375 \r\nQ 40.53125 6.109375 44.609375 11.75 \r\nQ 48.6875 17.390625 48.6875 27.296875 \r\nz\r\nM 18.109375 46.390625 \r\nQ 20.953125 51.265625 25.265625 53.625 \r\nQ 29.59375 56 35.59375 56 \r\nQ 45.5625 56 51.78125 48.09375 \r\nQ 58.015625 40.1875 58.015625 27.296875 \r\nQ 58.015625 14.40625 51.78125 6.484375 \r\nQ 45.5625 -1.421875 35.59375 -1.421875 \r\nQ 29.59375 -1.421875 25.265625 0.953125 \r\nQ 20.953125 3.328125 18.109375 8.203125 \r\nL 18.109375 0 \r\nL 9.078125 0 \r\nL 9.078125 75.984375 \r\nL 18.109375 75.984375 \r\nz\r\n\" id=\"DejaVuSans-98\"/>\r\n        <path d=\"M 54.890625 33.015625 \r\nL 54.890625 0 \r\nL 45.90625 0 \r\nL 45.90625 32.71875 \r\nQ 45.90625 40.484375 42.875 44.328125 \r\nQ 39.84375 48.1875 33.796875 48.1875 \r\nQ 26.515625 48.1875 22.3125 43.546875 \r\nQ 18.109375 38.921875 18.109375 30.90625 \r\nL 18.109375 0 \r\nL 9.078125 0 \r\nL 9.078125 75.984375 \r\nL 18.109375 75.984375 \r\nL 18.109375 46.1875 \r\nQ 21.34375 51.125 25.703125 53.5625 \r\nQ 30.078125 56 35.796875 56 \r\nQ 45.21875 56 50.046875 50.171875 \r\nQ 54.890625 44.34375 54.890625 33.015625 \r\nz\r\n\" id=\"DejaVuSans-104\"/>\r\n       </defs>\r\n       <use xlink:href=\"#DejaVuSans-110\"/>\r\n       <use x=\"63.378906\" xlink:href=\"#DejaVuSans-111\"/>\r\n       <use x=\"124.560547\" xlink:href=\"#DejaVuSans-95\"/>\r\n       <use x=\"174.560547\" xlink:href=\"#DejaVuSans-111\"/>\r\n       <use x=\"235.742188\" xlink:href=\"#DejaVuSans-102\"/>\r\n       <use x=\"270.947266\" xlink:href=\"#DejaVuSans-95\"/>\r\n       <use x=\"320.947266\" xlink:href=\"#DejaVuSans-98\"/>\r\n       <use x=\"384.423828\" xlink:href=\"#DejaVuSans-97\"/>\r\n       <use x=\"445.703125\" xlink:href=\"#DejaVuSans-116\"/>\r\n       <use x=\"484.912109\" xlink:href=\"#DejaVuSans-104\"/>\r\n       <use x=\"548.291016\" xlink:href=\"#DejaVuSans-114\"/>\r\n       <use x=\"587.154297\" xlink:href=\"#DejaVuSans-111\"/>\r\n       <use x=\"648.335938\" xlink:href=\"#DejaVuSans-111\"/>\r\n       <use x=\"709.517578\" xlink:href=\"#DejaVuSans-109\"/>\r\n      </g>\r\n     </g>\r\n    </g>\r\n    <g id=\"ytick_8\">\r\n     <g id=\"line2d_16\">\r\n      <g>\r\n       <use style=\"stroke:#000000;stroke-width:0.8;\" x=\"108.571875\" xlink:href=\"#m13377c4f88\" y=\"204.443125\"/>\r\n      </g>\r\n     </g>\r\n     <g id=\"text_17\">\r\n      <!-- furniture_Boş -->\r\n      <g transform=\"translate(35.176563 208.242344)scale(0.1 -0.1)\">\r\n       <defs>\r\n        <path d=\"M 19.671875 34.8125 \r\nL 19.671875 8.109375 \r\nL 35.5 8.109375 \r\nQ 43.453125 8.109375 47.28125 11.40625 \r\nQ 51.125 14.703125 51.125 21.484375 \r\nQ 51.125 28.328125 47.28125 31.5625 \r\nQ 43.453125 34.8125 35.5 34.8125 \r\nz\r\nM 19.671875 64.796875 \r\nL 19.671875 42.828125 \r\nL 34.28125 42.828125 \r\nQ 41.5 42.828125 45.03125 45.53125 \r\nQ 48.578125 48.25 48.578125 53.8125 \r\nQ 48.578125 59.328125 45.03125 62.0625 \r\nQ 41.5 64.796875 34.28125 64.796875 \r\nz\r\nM 9.8125 72.90625 \r\nL 35.015625 72.90625 \r\nQ 46.296875 72.90625 52.390625 68.21875 \r\nQ 58.5 63.53125 58.5 54.890625 \r\nQ 58.5 48.1875 55.375 44.234375 \r\nQ 52.25 40.28125 46.1875 39.3125 \r\nQ 53.46875 37.75 57.5 32.78125 \r\nQ 61.53125 27.828125 61.53125 20.40625 \r\nQ 61.53125 10.640625 54.890625 5.3125 \r\nQ 48.25 0 35.984375 0 \r\nL 9.8125 0 \r\nz\r\n\" id=\"DejaVuSans-66\"/>\r\n        <path d=\"M 44.28125 53.078125 \r\nL 44.28125 44.578125 \r\nQ 40.484375 46.53125 36.375 47.5 \r\nQ 32.28125 48.484375 27.875 48.484375 \r\nQ 21.1875 48.484375 17.84375 46.4375 \r\nQ 14.5 44.390625 14.5 40.28125 \r\nQ 14.5 37.15625 16.890625 35.375 \r\nQ 19.28125 33.59375 26.515625 31.984375 \r\nL 29.59375 31.296875 \r\nQ 39.15625 29.25 43.1875 25.515625 \r\nQ 47.21875 21.78125 47.21875 15.09375 \r\nQ 47.21875 7.46875 41.1875 3.015625 \r\nQ 35.15625 -1.421875 24.609375 -1.421875 \r\nQ 20.21875 -1.421875 15.453125 -0.5625 \r\nQ 10.6875 0.296875 5.421875 2 \r\nL 5.421875 11.28125 \r\nQ 10.40625 8.6875 15.234375 7.390625 \r\nQ 20.0625 6.109375 24.8125 6.109375 \r\nQ 31.15625 6.109375 34.5625 8.28125 \r\nQ 37.984375 10.453125 37.984375 14.40625 \r\nQ 37.984375 18.0625 35.515625 20.015625 \r\nQ 33.0625 21.96875 24.703125 23.78125 \r\nL 21.578125 24.515625 \r\nQ 13.234375 26.265625 9.515625 29.90625 \r\nQ 5.8125 33.546875 5.8125 39.890625 \r\nQ 5.8125 47.609375 11.28125 51.796875 \r\nQ 16.75 56 26.8125 56 \r\nQ 31.78125 56 36.171875 55.265625 \r\nQ 40.578125 54.546875 44.28125 53.078125 \r\nz\r\nM 30.21875 0 \r\nQ 32.90625 -3.03125 34.21875 -5.59375 \r\nQ 35.546875 -8.15625 35.546875 -10.5 \r\nQ 35.546875 -14.84375 32.609375 -17.0625 \r\nQ 29.6875 -19.28125 23.921875 -19.28125 \r\nQ 21.6875 -19.28125 19.5625 -18.984375 \r\nQ 17.4375 -18.703125 15.328125 -18.109375 \r\nL 15.328125 -11.71875 \r\nQ 17 -12.546875 18.796875 -12.90625 \r\nQ 20.609375 -13.28125 22.90625 -13.28125 \r\nQ 25.78125 -13.28125 27.25 -12.109375 \r\nQ 28.71875 -10.9375 28.71875 -8.6875 \r\nQ 28.71875 -7.234375 27.65625 -5.109375 \r\nQ 26.609375 -2.984375 24.421875 0 \r\nz\r\n\" id=\"DejaVuSans-351\"/>\r\n       </defs>\r\n       <use xlink:href=\"#DejaVuSans-102\"/>\r\n       <use x=\"35.205078\" xlink:href=\"#DejaVuSans-117\"/>\r\n       <use x=\"98.583984\" xlink:href=\"#DejaVuSans-114\"/>\r\n       <use x=\"137.947266\" xlink:href=\"#DejaVuSans-110\"/>\r\n       <use x=\"201.326172\" xlink:href=\"#DejaVuSans-105\"/>\r\n       <use x=\"229.109375\" xlink:href=\"#DejaVuSans-116\"/>\r\n       <use x=\"268.318359\" xlink:href=\"#DejaVuSans-117\"/>\r\n       <use x=\"331.697266\" xlink:href=\"#DejaVuSans-114\"/>\r\n       <use x=\"370.560547\" xlink:href=\"#DejaVuSans-101\"/>\r\n       <use x=\"432.083984\" xlink:href=\"#DejaVuSans-95\"/>\r\n       <use x=\"482.083984\" xlink:href=\"#DejaVuSans-66\"/>\r\n       <use x=\"550.6875\" xlink:href=\"#DejaVuSans-111\"/>\r\n       <use x=\"611.869141\" xlink:href=\"#DejaVuSans-351\"/>\r\n      </g>\r\n     </g>\r\n    </g>\r\n    <g id=\"ytick_9\">\r\n     <g id=\"line2d_17\">\r\n      <g>\r\n       <use style=\"stroke:#000000;stroke-width:0.8;\" x=\"108.571875\" xlink:href=\"#m13377c4f88\" y=\"228.726458\"/>\r\n      </g>\r\n     </g>\r\n     <g id=\"text_18\">\r\n      <!-- heating -->\r\n      <g transform=\"translate(63.56875 232.525677)scale(0.1 -0.1)\">\r\n       <use xlink:href=\"#DejaVuSans-104\"/>\r\n       <use x=\"63.378906\" xlink:href=\"#DejaVuSans-101\"/>\r\n       <use x=\"124.902344\" xlink:href=\"#DejaVuSans-97\"/>\r\n       <use x=\"186.181641\" xlink:href=\"#DejaVuSans-116\"/>\r\n       <use x=\"225.390625\" xlink:href=\"#DejaVuSans-105\"/>\r\n       <use x=\"253.173828\" xlink:href=\"#DejaVuSans-110\"/>\r\n       <use x=\"316.552734\" xlink:href=\"#DejaVuSans-103\"/>\r\n      </g>\r\n     </g>\r\n    </g>\r\n    <g id=\"ytick_10\">\r\n     <g id=\"line2d_18\">\r\n      <g>\r\n       <use style=\"stroke:#000000;stroke-width:0.8;\" x=\"108.571875\" xlink:href=\"#m13377c4f88\" y=\"253.009792\"/>\r\n      </g>\r\n     </g>\r\n     <g id=\"text_19\">\r\n      <!-- room -->\r\n      <g transform=\"translate(75.707813 256.80901)scale(0.1 -0.1)\">\r\n       <use xlink:href=\"#DejaVuSans-114\"/>\r\n       <use x=\"38.863281\" xlink:href=\"#DejaVuSans-111\"/>\r\n       <use x=\"100.044922\" xlink:href=\"#DejaVuSans-111\"/>\r\n       <use x=\"161.226562\" xlink:href=\"#DejaVuSans-109\"/>\r\n      </g>\r\n     </g>\r\n    </g>\r\n    <g id=\"ytick_11\">\r\n     <g id=\"line2d_19\">\r\n      <g>\r\n       <use style=\"stroke:#000000;stroke-width:0.8;\" x=\"108.571875\" xlink:href=\"#m13377c4f88\" y=\"277.293125\"/>\r\n      </g>\r\n     </g>\r\n     <g id=\"text_20\">\r\n      <!-- in_site_Hayır -->\r\n      <g transform=\"translate(37.939063 281.092344)scale(0.1 -0.1)\">\r\n       <defs>\r\n        <path d=\"M 9.8125 72.90625 \r\nL 19.671875 72.90625 \r\nL 19.671875 43.015625 \r\nL 55.515625 43.015625 \r\nL 55.515625 72.90625 \r\nL 65.375 72.90625 \r\nL 65.375 0 \r\nL 55.515625 0 \r\nL 55.515625 34.71875 \r\nL 19.671875 34.71875 \r\nL 19.671875 0 \r\nL 9.8125 0 \r\nz\r\n\" id=\"DejaVuSans-72\"/>\r\n        <path d=\"M 32.171875 -5.078125 \r\nQ 28.375 -14.84375 24.75 -17.8125 \r\nQ 21.140625 -20.796875 15.09375 -20.796875 \r\nL 7.90625 -20.796875 \r\nL 7.90625 -13.28125 \r\nL 13.1875 -13.28125 \r\nQ 16.890625 -13.28125 18.9375 -11.515625 \r\nQ 21 -9.765625 23.484375 -3.21875 \r\nL 25.09375 0.875 \r\nL 2.984375 54.6875 \r\nL 12.5 54.6875 \r\nL 29.59375 11.921875 \r\nL 46.6875 54.6875 \r\nL 56.203125 54.6875 \r\nz\r\n\" id=\"DejaVuSans-121\"/>\r\n        <path d=\"M 9.421875 54.6875 \r\nL 18.40625 54.6875 \r\nL 18.40625 0 \r\nL 9.421875 0 \r\nz\r\nM 13.921875 56 \r\nz\r\n\" id=\"DejaVuSans-305\"/>\r\n       </defs>\r\n       <use xlink:href=\"#DejaVuSans-105\"/>\r\n       <use x=\"27.783203\" xlink:href=\"#DejaVuSans-110\"/>\r\n       <use x=\"91.162109\" xlink:href=\"#DejaVuSans-95\"/>\r\n       <use x=\"141.162109\" xlink:href=\"#DejaVuSans-115\"/>\r\n       <use x=\"193.261719\" xlink:href=\"#DejaVuSans-105\"/>\r\n       <use x=\"221.044922\" xlink:href=\"#DejaVuSans-116\"/>\r\n       <use x=\"260.253906\" xlink:href=\"#DejaVuSans-101\"/>\r\n       <use x=\"321.777344\" xlink:href=\"#DejaVuSans-95\"/>\r\n       <use x=\"371.777344\" xlink:href=\"#DejaVuSans-72\"/>\r\n       <use x=\"446.972656\" xlink:href=\"#DejaVuSans-97\"/>\r\n       <use x=\"508.251953\" xlink:href=\"#DejaVuSans-121\"/>\r\n       <use x=\"567.431641\" xlink:href=\"#DejaVuSans-305\"/>\r\n       <use x=\"595.214844\" xlink:href=\"#DejaVuSans-114\"/>\r\n      </g>\r\n     </g>\r\n    </g>\r\n    <g id=\"ytick_12\">\r\n     <g id=\"line2d_20\">\r\n      <g>\r\n       <use style=\"stroke:#000000;stroke-width:0.8;\" x=\"108.571875\" xlink:href=\"#m13377c4f88\" y=\"301.576458\"/>\r\n      </g>\r\n     </g>\r\n     <g id=\"text_21\">\r\n      <!-- no_of_wc -->\r\n      <g transform=\"translate(55.8 305.375677)scale(0.1 -0.1)\">\r\n       <defs>\r\n        <path d=\"M 4.203125 54.6875 \r\nL 13.1875 54.6875 \r\nL 24.421875 12.015625 \r\nL 35.59375 54.6875 \r\nL 46.1875 54.6875 \r\nL 57.421875 12.015625 \r\nL 68.609375 54.6875 \r\nL 77.59375 54.6875 \r\nL 63.28125 0 \r\nL 52.6875 0 \r\nL 40.921875 44.828125 \r\nL 29.109375 0 \r\nL 18.5 0 \r\nz\r\n\" id=\"DejaVuSans-119\"/>\r\n       </defs>\r\n       <use xlink:href=\"#DejaVuSans-110\"/>\r\n       <use x=\"63.378906\" xlink:href=\"#DejaVuSans-111\"/>\r\n       <use x=\"124.560547\" xlink:href=\"#DejaVuSans-95\"/>\r\n       <use x=\"174.560547\" xlink:href=\"#DejaVuSans-111\"/>\r\n       <use x=\"235.742188\" xlink:href=\"#DejaVuSans-102\"/>\r\n       <use x=\"270.947266\" xlink:href=\"#DejaVuSans-95\"/>\r\n       <use x=\"320.947266\" xlink:href=\"#DejaVuSans-119\"/>\r\n       <use x=\"402.734375\" xlink:href=\"#DejaVuSans-99\"/>\r\n      </g>\r\n     </g>\r\n    </g>\r\n    <g id=\"text_22\">\r\n     <!-- Feature -->\r\n     <g transform=\"translate(14.798437 186.907969)rotate(-90)scale(0.1 -0.1)\">\r\n      <defs>\r\n       <path d=\"M 9.8125 72.90625 \r\nL 51.703125 72.90625 \r\nL 51.703125 64.59375 \r\nL 19.671875 64.59375 \r\nL 19.671875 43.109375 \r\nL 48.578125 43.109375 \r\nL 48.578125 34.8125 \r\nL 19.671875 34.8125 \r\nL 19.671875 0 \r\nL 9.8125 0 \r\nz\r\n\" id=\"DejaVuSans-70\"/>\r\n      </defs>\r\n      <use xlink:href=\"#DejaVuSans-70\"/>\r\n      <use x=\"52.019531\" xlink:href=\"#DejaVuSans-101\"/>\r\n      <use x=\"113.542969\" xlink:href=\"#DejaVuSans-97\"/>\r\n      <use x=\"174.822266\" xlink:href=\"#DejaVuSans-116\"/>\r\n      <use x=\"214.03125\" xlink:href=\"#DejaVuSans-117\"/>\r\n      <use x=\"277.410156\" xlink:href=\"#DejaVuSans-114\"/>\r\n      <use x=\"316.273438\" xlink:href=\"#DejaVuSans-101\"/>\r\n     </g>\r\n    </g>\r\n   </g>\r\n   <g id=\"line2d_21\">\r\n    <path clip-path=\"url(#pe12006460e)\" d=\"M 0 0 \r\n\" style=\"fill:none;stroke:#424242;stroke-linecap:square;stroke-width:2.7;\"/>\r\n   </g>\r\n   <g id=\"line2d_22\">\r\n    <path clip-path=\"url(#pe12006460e)\" d=\"M 0 0 \r\n\" style=\"fill:none;stroke:#424242;stroke-linecap:square;stroke-width:2.7;\"/>\r\n   </g>\r\n   <g id=\"line2d_23\">\r\n    <path clip-path=\"url(#pe12006460e)\" d=\"M 0 0 \r\n\" style=\"fill:none;stroke:#424242;stroke-linecap:square;stroke-width:2.7;\"/>\r\n   </g>\r\n   <g id=\"line2d_24\">\r\n    <path clip-path=\"url(#pe12006460e)\" d=\"M 0 0 \r\n\" style=\"fill:none;stroke:#424242;stroke-linecap:square;stroke-width:2.7;\"/>\r\n   </g>\r\n   <g id=\"line2d_25\">\r\n    <path clip-path=\"url(#pe12006460e)\" d=\"M 0 0 \r\n\" style=\"fill:none;stroke:#424242;stroke-linecap:square;stroke-width:2.7;\"/>\r\n   </g>\r\n   <g id=\"line2d_26\">\r\n    <path clip-path=\"url(#pe12006460e)\" d=\"M 0 0 \r\n\" style=\"fill:none;stroke:#424242;stroke-linecap:square;stroke-width:2.7;\"/>\r\n   </g>\r\n   <g id=\"line2d_27\">\r\n    <path clip-path=\"url(#pe12006460e)\" d=\"M 0 0 \r\n\" style=\"fill:none;stroke:#424242;stroke-linecap:square;stroke-width:2.7;\"/>\r\n   </g>\r\n   <g id=\"line2d_28\">\r\n    <path clip-path=\"url(#pe12006460e)\" d=\"M 0 0 \r\n\" style=\"fill:none;stroke:#424242;stroke-linecap:square;stroke-width:2.7;\"/>\r\n   </g>\r\n   <g id=\"line2d_29\">\r\n    <path clip-path=\"url(#pe12006460e)\" d=\"M 0 0 \r\n\" style=\"fill:none;stroke:#424242;stroke-linecap:square;stroke-width:2.7;\"/>\r\n   </g>\r\n   <g id=\"line2d_30\">\r\n    <path clip-path=\"url(#pe12006460e)\" d=\"M 0 0 \r\n\" style=\"fill:none;stroke:#424242;stroke-linecap:square;stroke-width:2.7;\"/>\r\n   </g>\r\n   <g id=\"line2d_31\">\r\n    <path clip-path=\"url(#pe12006460e)\" d=\"M 0 0 \r\n\" style=\"fill:none;stroke:#424242;stroke-linecap:square;stroke-width:2.7;\"/>\r\n   </g>\r\n   <g id=\"line2d_32\">\r\n    <path clip-path=\"url(#pe12006460e)\" d=\"M 0 0 \r\n\" style=\"fill:none;stroke:#424242;stroke-linecap:square;stroke-width:2.7;\"/>\r\n   </g>\r\n   <g id=\"patch_15\">\r\n    <path d=\"M 108.571875 313.718125 \r\nL 108.571875 22.318125 \r\n\" style=\"fill:none;stroke:#000000;stroke-linecap:square;stroke-linejoin:miter;stroke-width:0.8;\"/>\r\n   </g>\r\n   <g id=\"patch_16\">\r\n    <path d=\"M 849.846875 313.718125 \r\nL 849.846875 22.318125 \r\n\" style=\"fill:none;stroke:#000000;stroke-linecap:square;stroke-linejoin:miter;stroke-width:0.8;\"/>\r\n   </g>\r\n   <g id=\"patch_17\">\r\n    <path d=\"M 108.571875 313.718125 \r\nL 849.846875 313.718125 \r\n\" style=\"fill:none;stroke:#000000;stroke-linecap:square;stroke-linejoin:miter;stroke-width:0.8;\"/>\r\n   </g>\r\n   <g id=\"patch_18\">\r\n    <path d=\"M 108.571875 22.318125 \r\nL 849.846875 22.318125 \r\n\" style=\"fill:none;stroke:#000000;stroke-linecap:square;stroke-linejoin:miter;stroke-width:0.8;\"/>\r\n   </g>\r\n   <g id=\"text_23\">\r\n    <!-- LightGBM Features -->\r\n    <g transform=\"translate(422.592813 16.318125)scale(0.12 -0.12)\">\r\n     <defs>\r\n      <path d=\"M 9.8125 72.90625 \r\nL 19.671875 72.90625 \r\nL 19.671875 8.296875 \r\nL 55.171875 8.296875 \r\nL 55.171875 0 \r\nL 9.8125 0 \r\nz\r\n\" id=\"DejaVuSans-76\"/>\r\n      <path d=\"M 59.515625 10.40625 \r\nL 59.515625 29.984375 \r\nL 43.40625 29.984375 \r\nL 43.40625 38.09375 \r\nL 69.28125 38.09375 \r\nL 69.28125 6.78125 \r\nQ 63.578125 2.734375 56.6875 0.65625 \r\nQ 49.8125 -1.421875 42 -1.421875 \r\nQ 24.90625 -1.421875 15.25 8.5625 \r\nQ 5.609375 18.5625 5.609375 36.375 \r\nQ 5.609375 54.25 15.25 64.234375 \r\nQ 24.90625 74.21875 42 74.21875 \r\nQ 49.125 74.21875 55.546875 72.453125 \r\nQ 61.96875 70.703125 67.390625 67.28125 \r\nL 67.390625 56.78125 \r\nQ 61.921875 61.421875 55.765625 63.765625 \r\nQ 49.609375 66.109375 42.828125 66.109375 \r\nQ 29.4375 66.109375 22.71875 58.640625 \r\nQ 16.015625 51.171875 16.015625 36.375 \r\nQ 16.015625 21.625 22.71875 14.15625 \r\nQ 29.4375 6.6875 42.828125 6.6875 \r\nQ 48.046875 6.6875 52.140625 7.59375 \r\nQ 56.25 8.5 59.515625 10.40625 \r\nz\r\n\" id=\"DejaVuSans-71\"/>\r\n      <path d=\"M 9.8125 72.90625 \r\nL 24.515625 72.90625 \r\nL 43.109375 23.296875 \r\nL 61.8125 72.90625 \r\nL 76.515625 72.90625 \r\nL 76.515625 0 \r\nL 66.890625 0 \r\nL 66.890625 64.015625 \r\nL 48.09375 14.015625 \r\nL 38.1875 14.015625 \r\nL 19.390625 64.015625 \r\nL 19.390625 0 \r\nL 9.8125 0 \r\nz\r\n\" id=\"DejaVuSans-77\"/>\r\n      <path id=\"DejaVuSans-32\"/>\r\n     </defs>\r\n     <use xlink:href=\"#DejaVuSans-76\"/>\r\n     <use x=\"55.712891\" xlink:href=\"#DejaVuSans-105\"/>\r\n     <use x=\"83.496094\" xlink:href=\"#DejaVuSans-103\"/>\r\n     <use x=\"146.972656\" xlink:href=\"#DejaVuSans-104\"/>\r\n     <use x=\"210.351562\" xlink:href=\"#DejaVuSans-116\"/>\r\n     <use x=\"249.560547\" xlink:href=\"#DejaVuSans-71\"/>\r\n     <use x=\"327.050781\" xlink:href=\"#DejaVuSans-66\"/>\r\n     <use x=\"395.654297\" xlink:href=\"#DejaVuSans-77\"/>\r\n     <use x=\"481.933594\" xlink:href=\"#DejaVuSans-32\"/>\r\n     <use x=\"513.720703\" xlink:href=\"#DejaVuSans-70\"/>\r\n     <use x=\"565.740234\" xlink:href=\"#DejaVuSans-101\"/>\r\n     <use x=\"627.263672\" xlink:href=\"#DejaVuSans-97\"/>\r\n     <use x=\"688.542969\" xlink:href=\"#DejaVuSans-116\"/>\r\n     <use x=\"727.751953\" xlink:href=\"#DejaVuSans-117\"/>\r\n     <use x=\"791.130859\" xlink:href=\"#DejaVuSans-114\"/>\r\n     <use x=\"829.994141\" xlink:href=\"#DejaVuSans-101\"/>\r\n     <use x=\"891.517578\" xlink:href=\"#DejaVuSans-115\"/>\r\n    </g>\r\n   </g>\r\n  </g>\r\n </g>\r\n <defs>\r\n  <clipPath id=\"pe12006460e\">\r\n   <rect height=\"291.4\" width=\"741.275\" x=\"108.571875\" y=\"22.318125\"/>\r\n  </clipPath>\r\n </defs>\r\n</svg>\r\n",
      "image/png": "[encoded data removed]"
     },
     "metadata": {
      "needs_background": "light"
     }
    }
   ],
   "source": [
    "feature_imp = pd.DataFrame(sorted(zip(model.feature_importances_,X_train_enc.columns)), columns=['Value','Feature'])\n",
    "\n",
    "plt.figure(figsize=(12, 5))\n",
    "sns.barplot(x=\"Value\", y=\"Feature\", data=feature_imp.sort_values(by=\"Value\", ascending=False))\n",
    "plt.title('LightGBM Features')\n",
    "plt.tight_layout()\n",
    "plt.show()"
   ]
  },
  {
   "cell_type": "code",
   "execution_count": 180,
   "metadata": {},
   "outputs": [],
   "source": [
    "#plot_tree(model)"
   ]
  },
  {
   "source": [
    "### Pipeline"
   ],
   "cell_type": "markdown",
   "metadata": {}
  },
  {
   "cell_type": "code",
   "execution_count": 181,
   "metadata": {},
   "outputs": [],
   "source": [
    "pipe=Pipeline([\n",
    "        (\"CountFrequencyEncoder\",CountFrequencyEncoder(variables=[\"location\"])),\n",
    "        (\"MeanEncoder\",MeanEncoder(variables=[\"room\",\"age\",\"heating\"])),\n",
    "        (\"OneHotEncoder\",OneHotEncoder(variables=[\"furniture\",\"in_site\"])),\n",
    "        (\"MinMaxScaler\",MinMaxScaler()),\n",
    "        (\"LGBM\",LGBMRegressor(max_depth=3,reg_alpha=0.5,reg_lambda=50,random_state=0))\n",
    "])"
   ]
  },
  {
   "cell_type": "code",
   "execution_count": 182,
   "metadata": {},
   "outputs": [
    {
     "output_type": "execute_result",
     "data": {
      "text/plain": [
       "Pipeline(steps=[('CountFrequencyEncoder',\n",
       "                 CountFrequencyEncoder(variables=['location'])),\n",
       "                ('MeanEncoder',\n",
       "                 MeanEncoder(variables=['room', 'age', 'heating'])),\n",
       "                ('OneHotEncoder',\n",
       "                 OneHotEncoder(variables=['furniture', 'in_site'])),\n",
       "                ('MinMaxScaler', MinMaxScaler()),\n",
       "                ('LGBM',\n",
       "                 LGBMRegressor(max_depth=3, random_state=0, reg_alpha=0.5,\n",
       "                               reg_lambda=50))])"
      ]
     },
     "metadata": {},
     "execution_count": 182
    }
   ],
   "source": [
    "pipe.fit(X_train,y_train)"
   ]
  },
  {
   "cell_type": "code",
   "execution_count": 183,
   "metadata": {},
   "outputs": [],
   "source": [
    "pred=pipe.predict(X_test)"
   ]
  },
  {
   "cell_type": "code",
   "execution_count": 184,
   "metadata": {},
   "outputs": [
    {
     "output_type": "execute_result",
     "data": {
      "text/plain": [
       "(0.6574446956690744, 0.6060611136384553)"
      ]
     },
     "metadata": {},
     "execution_count": 184
    }
   ],
   "source": [
    "pipe.score(X_train,y_train),pipe.score(X_test,y_test)"
   ]
  },
  {
   "cell_type": "code",
   "execution_count": 185,
   "metadata": {},
   "outputs": [
    {
     "output_type": "execute_result",
     "data": {
      "text/plain": [
       "['first_pipeline.pkl']"
      ]
     },
     "metadata": {},
     "execution_count": 185
    }
   ],
   "source": [
    "joblib.dump(pipe,'first_pipeline.pkl')\n"
   ]
  },
  {
   "cell_type": "code",
   "execution_count": 186,
   "metadata": {},
   "outputs": [
    {
     "output_type": "execute_result",
     "data": {
      "text/plain": [
       "Pipeline(steps=[('CountFrequencyEncoder',\n",
       "                 CountFrequencyEncoder(variables=['location'])),\n",
       "                ('MeanEncoder',\n",
       "                 MeanEncoder(variables=['room', 'age', 'heating'])),\n",
       "                ('OneHotEncoder',\n",
       "                 OneHotEncoder(variables=['furniture', 'in_site'])),\n",
       "                ('MinMaxScaler', MinMaxScaler()),\n",
       "                ('LGBM',\n",
       "                 LGBMRegressor(max_depth=3, random_state=0, reg_alpha=0.5,\n",
       "                               reg_lambda=50))])"
      ]
     },
     "metadata": {},
     "execution_count": 186
    }
   ],
   "source": [
    "pipe=joblib.load(\"first_pipeline.pkl\")\n",
    "pipe"
   ]
  },
  {
   "cell_type": "code",
   "execution_count": 187,
   "metadata": {},
   "outputs": [
    {
     "output_type": "execute_result",
     "data": {
      "text/plain": [
       "Pipeline(steps=[('CountFrequencyEncoder',\n",
       "                 CountFrequencyEncoder(variables=['location'])),\n",
       "                ('MeanEncoder',\n",
       "                 MeanEncoder(variables=['room', 'age', 'heating'])),\n",
       "                ('OneHotEncoder',\n",
       "                 OneHotEncoder(variables=['furniture', 'in_site'])),\n",
       "                ('MinMaxScaler', MinMaxScaler()),\n",
       "                ('LGBM',\n",
       "                 LGBMRegressor(max_depth=3, random_state=0, reg_alpha=0.5,\n",
       "                               reg_lambda=50))])"
      ]
     },
     "metadata": {},
     "execution_count": 187
    }
   ],
   "source": [
    "pipe.fit(X_train,y_train)"
   ]
  },
  {
   "cell_type": "code",
   "execution_count": 188,
   "metadata": {},
   "outputs": [
    {
     "output_type": "execute_result",
     "data": {
      "text/plain": [
       "0.6060611136384553"
      ]
     },
     "metadata": {},
     "execution_count": 188
    }
   ],
   "source": [
    "pipe.score(X_test,y_test)"
   ]
  },
  {
   "cell_type": "code",
   "execution_count": null,
   "metadata": {},
   "outputs": [],
   "source": []
  }
 ]
}